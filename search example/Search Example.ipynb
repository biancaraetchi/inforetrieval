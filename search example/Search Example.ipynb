{
 "cells": [
  {
   "cell_type": "markdown",
   "metadata": {},
   "source": [
    "### As before, we import the libraries and code bases we need\n",
    "\n",
    "### This time, inverted_index and utils is mine... Note source files used in this context have to live within the context of where the jupyter notebook is being run..."
   ]
  },
  {
   "cell_type": "code",
   "execution_count": null,
   "metadata": {},
   "outputs": [],
   "source": [
    "# first install the required packages\n",
    "!pip install nltk\n",
    "!pip install scipy\n",
    "!pip install numpy\n",
    "import nltk\n",
    "nltk.download('stopwords')\n",
    "\n",
    "\n",
    "from inverted_index import InvertedIndex\n",
    "from utils import read_data\n",
    "inv_ind = InvertedIndex()"
   ]
  },
  {
   "cell_type": "markdown",
   "metadata": {},
   "source": [
    "### Add documents below, read_data scans directory passed for any files ending in \".txt\" and reads them in as a single string."
   ]
  },
  {
   "cell_type": "code",
   "execution_count": null,
   "metadata": {},
   "outputs": [],
   "source": [
    "documents = read_data(\"./data\")\n",
    "print(documents)"
   ]
  },
  {
   "cell_type": "markdown",
   "metadata": {},
   "source": [
    "### Print out number of documents and document titles"
   ]
  },
  {
   "cell_type": "code",
   "execution_count": null,
   "metadata": {},
   "outputs": [],
   "source": [
    "print(len(documents))\n",
    "for d in documents:\n",
    "    print(d[0])"
   ]
  },
  {
   "cell_type": "markdown",
   "metadata": {},
   "source": [
    "### Next, we will add all these documents to our Inverted Index..."
   ]
  },
  {
   "cell_type": "code",
   "execution_count": null,
   "metadata": {},
   "outputs": [],
   "source": [
    "for d in documents:\n",
    "    print(d[0])\n",
    "    inv_ind.add_document(d)"
   ]
  },
  {
   "cell_type": "markdown",
   "metadata": {},
   "source": [
    "### Print out some descriptives, total terms indexed and documents..."
   ]
  },
  {
   "cell_type": "code",
   "execution_count": null,
   "metadata": {},
   "outputs": [],
   "source": [
    "print(inv_ind.get_total_terms())\n",
    "print(inv_ind.get_total_docs())"
   ]
  },
  {
   "cell_type": "markdown",
   "metadata": {},
   "source": [
    "### Print out the inverted index itself...."
   ]
  },
  {
   "cell_type": "code",
   "execution_count": null,
   "metadata": {},
   "outputs": [],
   "source": [
    "inv_ind.print()"
   ]
  },
  {
   "cell_type": "markdown",
   "metadata": {},
   "source": [
    "### Just for interest's sake, you can see nltk's built in stop word list"
   ]
  },
  {
   "cell_type": "code",
   "execution_count": null,
   "metadata": {},
   "outputs": [],
   "source": [
    "import nltk\n",
    "print(nltk.corpus.stopwords.words('english'))"
   ]
  },
  {
   "cell_type": "markdown",
   "metadata": {},
   "source": [
    "### From this we can geneate a term by document matrix "
   ]
  },
  {
   "cell_type": "code",
   "execution_count": null,
   "metadata": {},
   "outputs": [],
   "source": [
    "print(inv_ind.generate_term_by_doc_matrix())"
   ]
  },
  {
   "cell_type": "markdown",
   "metadata": {},
   "source": [
    "#### We can compute the LogEntropy values for everything in the Inverted Index\n",
    "#### Display new values"
   ]
  },
  {
   "cell_type": "code",
   "execution_count": null,
   "metadata": {},
   "outputs": [],
   "source": [
    "inv_ind.calcLogEntropy()\n",
    "inv_ind.generate_term_by_doc_matrix(log_entropy = True)"
   ]
  },
  {
   "cell_type": "markdown",
   "metadata": {},
   "source": [
    "### Let's do a search...."
   ]
  },
  {
   "cell_type": "code",
   "execution_count": null,
   "metadata": {},
   "outputs": [],
   "source": [
    "results = inv_ind.search(\"scotland kings and thanes\", log_entropy = True)\n",
    "for r in results:\n",
    "    print (r)\n"
   ]
  },
  {
   "cell_type": "markdown",
   "metadata": {},
   "source": [
    "### We can deal with boolean queries too... let's get some data."
   ]
  },
  {
   "cell_type": "code",
   "execution_count": null,
   "metadata": {},
   "outputs": [],
   "source": [
    "obama = inv_ind.get_document_set_from_term(\"Obama\")\n",
    "trump = inv_ind.get_document_set_from_term(\"Trump\")\n",
    "bernie = inv_ind.get_document_set_from_term(\"Bernie Sanders\")\n",
    "print(obama)\n",
    "print(trump)\n",
    "print(bernie)"
   ]
  },
  {
   "cell_type": "markdown",
   "metadata": {},
   "source": [
    "### We have sets containing the infor for Obama, Trump and Sanders\n",
    "### Which documents discuss all 3?"
   ]
  },
  {
   "cell_type": "code",
   "execution_count": null,
   "metadata": {},
   "outputs": [],
   "source": [
    "print(obama & trump & bernie)"
   ]
  },
  {
   "cell_type": "markdown",
   "metadata": {},
   "source": [
    "### Let's use a larger dataset, we will use the complete works \n",
    "### of Shakespeare next... First, load it in."
   ]
  },
  {
   "cell_type": "code",
   "execution_count": null,
   "metadata": {},
   "outputs": [],
   "source": [
    "documents = read_data(\"./shakespeare\")\n",
    "inv_ind = InvertedIndex()\n",
    "for d in documents:\n",
    "    print(d[0])"
   ]
  },
  {
   "cell_type": "markdown",
   "metadata": {},
   "source": [
    "### Next, add them to the Inverted Index...\n",
    "### Note some of these documents are 25,000 - 35,000 words..."
   ]
  },
  {
   "cell_type": "code",
   "execution_count": null,
   "metadata": {},
   "outputs": [],
   "source": [
    "for d in documents:\n",
    "    print(d[0])\n",
    "    inv_ind.add_document(d)"
   ]
  },
  {
   "cell_type": "markdown",
   "metadata": {},
   "source": [
    "### We can reproduce our boolean search gave in the lecture slides...\n",
    "\n",
    "### Also see how many terms we have..."
   ]
  },
  {
   "cell_type": "code",
   "execution_count": null,
   "metadata": {
    "scrolled": true
   },
   "outputs": [],
   "source": [
    "print(inv_ind.get_total_terms())\n",
    "caes = inv_ind.get_document_set_from_term(\"Caesar\")\n",
    "brut = inv_ind.get_document_set_from_term(\"Brutus\")\n",
    "cap = inv_ind.get_document_set_from_term(\"Calpurnia\")\n",
    "print(caes)\n",
    "print(brut)\n",
    "print(cap)"
   ]
  },
  {
   "cell_type": "markdown",
   "metadata": {},
   "source": [
    "### Using simple set operations...\n",
    "### Which are the plays that have Caesar AND Brutus but *NOT* Calpurnia"
   ]
  },
  {
   "cell_type": "code",
   "execution_count": null,
   "metadata": {},
   "outputs": [],
   "source": [
    "print((caes & brut) - cap)\n"
   ]
  },
  {
   "cell_type": "markdown",
   "metadata": {},
   "source": [
    "### Let's generate our TFIDF data for future work and generate a plain term by document matrix for queries."
   ]
  },
  {
   "cell_type": "code",
   "execution_count": null,
   "metadata": {},
   "outputs": [],
   "source": [
    "#inv_ind.calcTFIDF()\n",
    "inv_ind.generate_term_by_doc_matrix(tfidf = False)"
   ]
  },
  {
   "cell_type": "markdown",
   "metadata": {},
   "source": [
    "### Now, let's do a query about a Shakespeare play..."
   ]
  },
  {
   "cell_type": "code",
   "execution_count": null,
   "metadata": {},
   "outputs": [],
   "source": [
    "results = inv_ind.search(\"scotland kings and thanes\", tfidf = False)\n",
    "for r in results:\n",
    "    print (r)"
   ]
  },
  {
   "cell_type": "markdown",
   "metadata": {},
   "source": [
    "### Is there anything weird going on here?"
   ]
  },
  {
   "cell_type": "code",
   "execution_count": null,
   "metadata": {},
   "outputs": [],
   "source": [
    "king_docs = inv_ind.get_document_set_from_term(\"Kings\")\n",
    "print(king_docs)"
   ]
  },
  {
   "cell_type": "code",
   "execution_count": null,
   "metadata": {},
   "outputs": [],
   "source": [
    "king_pl = inv_ind.get_postings_list_from_term(\"Kings\")\n",
    "print(king_pl)"
   ]
  },
  {
   "cell_type": "code",
   "execution_count": null,
   "metadata": {},
   "outputs": [],
   "source": [
    "scotland_pl = inv_ind.get_postings_list_from_term(\"Scotland\")\n",
    "print(scotland_pl)"
   ]
  },
  {
   "cell_type": "code",
   "execution_count": null,
   "metadata": {},
   "outputs": [],
   "source": [
    "thane_pl = inv_ind.get_postings_list_from_term(\"Thane\")\n",
    "print(thane_pl)"
   ]
  }
 ],
 "metadata": {
  "kernelspec": {
   "display_name": "Python 3 (ipykernel)",
   "language": "python",
   "name": "python3"
  },
  "language_info": {
   "codemirror_mode": {
    "name": "ipython",
    "version": 3
   },
   "file_extension": ".py",
   "mimetype": "text/x-python",
   "name": "python",
   "nbconvert_exporter": "python",
   "pygments_lexer": "ipython3",
   "version": "3.10.12"
  }
 },
 "nbformat": 4,
 "nbformat_minor": 4
}
